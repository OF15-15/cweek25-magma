{
 "cells": [
  {
   "metadata": {
    "ExecuteTime": {
     "end_time": "2025-06-05T21:25:59.954313Z",
     "start_time": "2025-06-05T21:25:59.565630Z"
    }
   },
   "cell_type": "code",
   "source": [
    "# imports\n",
    "import matplotlib.path as mpath\n",
    "import numpy as np\n",
    "import matplotlib.pyplot as plt"
   ],
   "id": "1037d1a126b788ed",
   "outputs": [],
   "execution_count": 2
  },
  {
   "metadata": {
    "ExecuteTime": {
     "end_time": "2025-06-05T21:25:59.965669Z",
     "start_time": "2025-06-05T21:25:59.963785Z"
    }
   },
   "cell_type": "code",
   "source": [
    "# different polys\n",
    "poly = np.array(([0, 0.23], [0.1, 0.23], [0.1, 0.13], [0.07, 0.13], [0.07, 0.1], [0.1, 0.1], [0.1, 0], [0, 0], [0, 0.1], [0.03, 0.1], [0.03, 0.13], [0, 0.13], [0, 0.23]))\n",
    "#poly = np.array([[0, 0], (0, -1), (0.5, -0.6), (1, -1), [1, 0], [0, 0]])\n",
    "#poly = np.array([[0, 0.5], [0.1, 0.5], [0.065, 0], [0.035, 0], [0, 0.5]])"
   ],
   "id": "faf02014e25e2e65",
   "outputs": [],
   "execution_count": 3
  },
  {
   "metadata": {
    "ExecuteTime": {
     "end_time": "2025-06-05T21:25:59.975594Z",
     "start_time": "2025-06-05T21:25:59.973784Z"
    }
   },
   "cell_type": "code",
   "source": [
    "def circ_points(x, y, r, n=100):\n",
    "    \"\"\"Create np array to draw circles\"\"\"\n",
    "    theta = np.linspace(0, 2*np.pi, n)\n",
    "    a = r * np.cos(theta) + x\n",
    "    b = r * np.sin(theta) + y\n",
    "    return a, b"
   ],
   "id": "ea2c19ca17931540",
   "outputs": [],
   "execution_count": 4
  },
  {
   "metadata": {
    "ExecuteTime": {
     "end_time": "2025-06-05T21:26:00.213881Z",
     "start_time": "2025-06-05T21:26:00.143400Z"
    }
   },
   "cell_type": "code",
   "source": [
    "# complex poly\n",
    "n = 200\n",
    "f1 = np.array([[1, 2]])\n",
    "f2 = np.column_stack(circ_points(1, 0, 1, n))[:3*n//4:-1]\n",
    "f3 = np.array([[0, -1], [0, -2]])\n",
    "f4 = np.column_stack(circ_points(1, -3, 1, n))[n//4::-1]\n",
    "f5 = np.column_stack(circ_points(2.5, -4.5, 0.5, n))[n//2:3*n//4]\n",
    "f6 = np.column_stack(circ_points(5, -4.5, 0.5, n))[3*n//4:-1]\n",
    "f7 = np.column_stack(circ_points(5, -4.5, 0.5, n))[1:n//5]\n",
    "f8 = np.column_stack(circ_points(3.5, -3, 0.5, n))[14*n//20:6*n//20:-1]\n",
    "f9 = np.column_stack(circ_points(5, -1.5, 0.5, n))[4*n//5:]\n",
    "f0 = np.array([[5.5, 0], [7.5, 2], [1, 2]])\n",
    "\n",
    "poly = np.concatenate((f1, f2, f3, f4, f5, f6, f7, f8, f9, f0))\n",
    "\n",
    "plt.axis('equal')\n",
    "plt.plot(poly[:, 0], poly[:, 1])"
   ],
   "id": "235ccea71af1b066",
   "outputs": [
    {
     "data": {
      "text/plain": [
       "[<matplotlib.lines.Line2D at 0x116f18a40>]"
      ]
     },
     "execution_count": 5,
     "metadata": {},
     "output_type": "execute_result"
    },
    {
     "data": {
      "text/plain": [
       "<Figure size 640x480 with 1 Axes>"
      ],
      "image/png": "[encoded data removed]"
     },
     "metadata": {},
     "output_type": "display_data"
    }
   ],
   "execution_count": 5
  },
  {
   "metadata": {
    "ExecuteTime": {
     "end_time": "2025-06-05T21:26:00.322878Z",
     "start_time": "2025-06-05T21:26:00.319433Z"
    }
   },
   "cell_type": "code",
   "source": [
    "# get line segments\n",
    "poly_lines = np.column_stack((poly[:-1], poly[1:]))\n",
    "l1x, l1y, l2x, l2y = poly_lines[:, 0], poly_lines[:, 1], poly_lines[:, 2], poly_lines[:, 3]\n",
    "\n",
    "# define eps environment\n",
    "EPS = 1e-9\n",
    "EPS_BOX = np.array(((0, 0), (0, EPS), (EPS, 0), (0, -EPS), (-EPS, 0)))"
   ],
   "id": "ef908810cc1272d6",
   "outputs": [],
   "execution_count": 6
  },
  {
   "metadata": {
    "ExecuteTime": {
     "end_time": "2025-06-05T21:26:00.492972Z",
     "start_time": "2025-06-05T21:26:00.489371Z"
    }
   },
   "cell_type": "code",
   "source": [
    "def point_grid(poly, step=0.01, zero_level=True):\n",
    "    \"\"\"Generate a grid and return all coords in array of 2-tuples with step between points\"\"\"\n",
    "    # all x-/ y-values\n",
    "    top = 0\n",
    "    if not zero_level:\n",
    "        top =  poly[:, 1].max()\n",
    "    x_vals = np.arange(poly[:, 0].min() - 2 * step, poly[:, 0].max() + 2 * step, step)  # np.arange(0, 10.0001, 0.1)\n",
    "    y_vals = np.arange(poly[:, 1].min() - 2 * step, top + 2 * step, step)\n",
    "\n",
    "    # Create 2D grid\n",
    "    X, Y = np.meshgrid(x_vals, y_vals)  # both shape (101, 101)\n",
    "\n",
    "    # reshape into (x1, y1), ..., (xn, yn)\n",
    "    x_grid = X.flatten()\n",
    "    y_grid = Y.flatten()\n",
    "    return np.column_stack((x_grid, y_grid))\n",
    "\n",
    "def inside_points(poly, flat_grid=None):\n",
    "    \"\"\"For all given points, check whether they're inside the polygon\"\"\"\n",
    "    # create a new grid if undefined\n",
    "    if flat_grid is None:\n",
    "        flat_grid = point_grid(poly)\n",
    "    # use mpath to check if a point (including its closest surrounding)\n",
    "    # is inside the polygon and mask the grid with the result\n",
    "    mpath_poly = mpath.Path(poly)\n",
    "    bools = np.ones_like(flat_grid[:, 0], dtype=bool)\n",
    "    for i in range(len(flat_grid)):\n",
    "        bools[i] = mpath_poly.contains_points(flat_grid[i]+EPS_BOX).sum() == 5\n",
    "    return flat_grid[bools]"
   ],
   "id": "979103c706ee8bdc",
   "outputs": [],
   "execution_count": 7
  },
  {
   "metadata": {
    "ExecuteTime": {
     "end_time": "2025-06-05T21:26:01.819123Z",
     "start_time": "2025-06-05T21:26:00.660728Z"
    }
   },
   "cell_type": "code",
   "source": [
    "# generate grid & inside points for our polygon\n",
    "grid = point_grid(poly, 0.02)\n",
    "inside = inside_points(poly, grid)"
   ],
   "id": "92b1624149bd44c0",
   "outputs": [],
   "execution_count": 8
  },
  {
   "metadata": {
    "ExecuteTime": {
     "end_time": "2025-06-05T21:26:01.839451Z",
     "start_time": "2025-06-05T21:26:01.834772Z"
    }
   },
   "cell_type": "code",
   "source": [
    "def get_random_point(inside):\n",
    "    \"\"\"Get a random point from the inside array\"\"\"\n",
    "    return inside[np.random.randint(0, len(inside), 1)][0]\n",
    "\n",
    "def get_point(inside, i):\n",
    "    \"\"\"Get the i-th point from the inside array\"\"\"\n",
    "    if i >= len(inside):\n",
    "        return None, None\n",
    "    return inside[i]\n",
    "\n",
    "def get_closest(x, y, a, b, c, d):\n",
    "    \"\"\"Get the closest point on the edge of the polygon\"\"\"\n",
    "    # calculate the factor r that a + r*ab is on the lot through x|y onto the line segment\n",
    "    rr = -(-x*c + a*c + a*x - a*a + b*y - b*b - d*y + b*d) / (c*c - 2*a*c + a*a + b*b - 2*b*d + d*d)\n",
    "    # the line only goes from a (r=0) to b (r=1)\n",
    "    rrs = np.minimum(1, np.maximum(0, rr))\n",
    "    # get the closest point for all line segments\n",
    "    foot_points = np.array([a + rrs * (c - a), b + rrs * (d - b)])\n",
    "    # return the closest of those\n",
    "    closest = np.argmin((foot_points[0]-x)**2 + (foot_points[1]-y)**2)\n",
    "    return foot_points[:, closest]\n",
    "\n",
    "def get_opp(x, y, u, v, aa, bb, cc, dd):\n",
    "    \"\"\"Get the point on the opposite side of a given polygon\"\"\"\n",
    "    # not vectorized because too lazy/hard\n",
    "\n",
    "    # solution point / \"distance\" arrays\n",
    "    ll = []\n",
    "    hh = []\n",
    "    # iterate over the line segments\n",
    "    for l in range(len(aa)):\n",
    "        # redefine line segment for easier access\n",
    "        a, b, c, d = aa[l], bb[l], cc[l], dd[l]\n",
    "        # if parallel, this can't be correct\n",
    "        if np.abs((x-u)*(d-b) - (y-v)*(c-a)) <= EPS:\n",
    "            continue\n",
    "        # calculate the h factor := the needed multiples of\n",
    "        # xy-uv to cut the line segment\n",
    "        h = ((v-b)*(c-a) - (u-a)*(d-b))/((x-u)*(d-b) - (y-v)*(c-a))\n",
    "        # same point\n",
    "        if h <= EPS:\n",
    "            continue\n",
    "        # calculate r := the needed multiples of the line segment\n",
    "        # sometimes only one equation usable\n",
    "        if np.abs(c - a) <= EPS:\n",
    "            if np.abs(d - b) <= EPS:\n",
    "                continue\n",
    "            r = (v-b + h*(y-v))/(d-b)\n",
    "        else:\n",
    "            r = (u-a + h*(x-u))/(c-a)\n",
    "        # if not in [0, 1], this does not actually cut the ls\n",
    "        if not (0 <= r <= 1):\n",
    "            continue\n",
    "        # in case of a solution, save it\n",
    "        ll.append(np.array([u+h*(x-u), v+h*(y-v)]))\n",
    "        hh.append(h)\n",
    "    if len(ll) == 0:\n",
    "        raise Exception(\"No opposite point found\")\n",
    "    # return first opp point -> don't leave the polygon\n",
    "    ind_min_h = np.argmin(hh)\n",
    "    return np.array(ll)[ind_min_h]\n",
    "\n",
    "def get_mid(x, y, u, v, o, p):\n",
    "    \"\"\"Get the middle point of the line between closest and opp\"\"\"\n",
    "    k = ((o-u)**2 + (p-v)**2)/(2*((o-u)*(x-u)+(p-v)*(y-v)))\n",
    "    return u + k*(x-u), v + k*(y-v)"
   ],
   "id": "cc11db2a14a8cb98",
   "outputs": [],
   "execution_count": 9
  },
  {
   "metadata": {
    "ExecuteTime": {
     "end_time": "2025-06-06T00:07:41.577513Z",
     "start_time": "2025-06-06T00:07:41.573572Z"
    }
   },
   "cell_type": "code",
   "source": [
    "def get_heuver_points(count, l1x, l1y, l2x, l2y, random=False):\n",
    "    points = np.zeros((count, 3))\n",
    "    for i in range(count):\n",
    "        if random:\n",
    "            x, y = get_random_point(inside) # random point\n",
    "        else:\n",
    "            x, y = get_point(inside, i*len(inside)//count)\n",
    "        if x is None: break\n",
    "        u, v = get_closest(x, y, l1x, l1y, l2x, l2y) # foot point\n",
    "        o, p = get_opp(x, y, u, v, l1x, l1y, l2x, l2y) # opponent point\n",
    "        m, n = (o+u)/2, (p+v)/2 # mid point\n",
    "        f, g = get_closest(m, n, l1x, l1y, l2x, l2y)\n",
    "        while not(np.isclose(u, f) and np.isclose(v, g) or np.isclose(o, f) and np.isclose(p, g)):\n",
    "            o, p = f, g\n",
    "            m, n = get_mid(x, y, u, v, o, p)\n",
    "            f, g = get_closest(m, n, l1x, l1y, l2x, l2y)\n",
    "\n",
    "        if n > 0: continue\n",
    "        r = np.sqrt((m-u)**2 + (n-v)**2)\n",
    "\n",
    "        if (f-u)**2 + (g-v)**2 < 0.01:\n",
    "            continue\n",
    "        points[i] = m, n, r\n",
    "    return np.unique(points[(points[:, 0] != 0) & (points[:, 1] != 0)], axis=0)"
   ],
   "id": "b75bdb39fed12592",
   "outputs": [],
   "execution_count": 129
  },
  {
   "metadata": {
    "ExecuteTime": {
     "end_time": "2025-06-06T00:49:08.301009Z",
     "start_time": "2025-06-06T00:49:08.289626Z"
    }
   },
   "cell_type": "code",
   "source": [
    "def plot_points(poly, points, circles=True, savefig=None, *args, **kwargs):\n",
    "    \"\"\"Plot a larger number of points inside a polygon\"\"\"\n",
    "    plt.axis('equal')\n",
    "    plt.plot(poly[:, 0], poly[:, 1], color='grey')\n",
    "    plt.scatter(points[:, 0], points[:, 1], s=1)\n",
    "    if circles:\n",
    "        for m, n, r in points:\n",
    "            circ_x, circ_y = circ_points(m, n, r)\n",
    "            plt.plot(circ_x, circ_y, color='grey', alpha=0.5)\n",
    "    if savefig is not None:\n",
    "        plt.savefig(savefig)"
   ],
   "id": "9aa3af0511e0cc84",
   "outputs": [],
   "execution_count": 183
  },
  {
   "metadata": {
    "ExecuteTime": {
     "end_time": "2025-06-06T00:49:15.004395Z",
     "start_time": "2025-06-06T00:49:14.995418Z"
    }
   },
   "cell_type": "code",
   "source": [
    "def get_step_plot(x=None, y=None, u=None, v=None, o=None, p=None,\n",
    "                  m=None, n=None, circ=None, f=None, g=None):\n",
    "    \"\"\"Plot all parts until a certain variable isn't supplied anymore\"\"\"\n",
    "    if x is None or y is None: return\n",
    "    plt.plot(x, y, color='b', marker='o')\n",
    "    if u is None or v is None: return\n",
    "    plt.plot([x, u], [y, v], color='b')\n",
    "    plt.plot(u, v, color='r', marker='o')\n",
    "    if o is None or p is None: return\n",
    "    plt.plot([x, o], [y, p], color='b', linestyle='--')\n",
    "    plt.plot(o, p, color='g', marker='o')\n",
    "    if m is None or n is None: return\n",
    "    plt.plot(m, n, color='y', marker='o')\n",
    "    if circ is None: return\n",
    "    if circ == 'uv':\n",
    "        circ_r = np.sqrt((m-u)**2 + (n-v)**2)\n",
    "    elif circ == 'fg':\n",
    "        circ_r = np.sqrt((m-f)**2 + (n-g)**2)\n",
    "    circ_x, circ_y = circ_points(m, n, circ_r)\n",
    "    plt.plot(circ_x, circ_y, color='grey', alpha=0.5)\n",
    "    if f is None or g is None: return\n",
    "    plt.plot([m, f], [n, g], color='y')\n",
    "    plt.plot(f, g, color='orange', marker='o')\n",
    "\n",
    "def plot_single_step(poly, *args, savefig=None, show=False):\n",
    "    \"\"\"Plot a single step in the Algorithm\"\"\"\n",
    "    plt.axis('equal')\n",
    "    box = poly[:, 0].min(), poly[:, 0].max(), poly[:, 1].min(), poly[:, 1].max()\n",
    "    if box[1]-box[0] < (box[3]-box[2])*4/3:\n",
    "        plt.ylim(box[2]-(box[3]-box[2])/20, box[3]+(box[3]-box[2])/20)\n",
    "    plt.plot(poly[:, 0], poly[:, 1], color='grey')\n",
    "\n",
    "    get_step_plot(*args)\n",
    "\n",
    "    if savefig is not None:\n",
    "        plt.savefig(savefig)\n",
    "    if show:\n",
    "        plt.show()\n",
    "    plt.clf()\n",
    "\n",
    "def plot_steps(x, y, show=True, fpath='polyplot'):\n",
    "    \"\"\"Plot all steps until the Algorithm terminates\"\"\"\n",
    "    plot_single_step(poly, savefig=f\"{fpath}-00.png\", show=show)\n",
    "    plot_single_step(poly, x, y, savefig=f\"{fpath}-01.png\", show=show)\n",
    "\n",
    "    u, v = get_closest(x, y, l1x, l1y, l2x, l2y) # foot point\n",
    "    plot_single_step(poly, x, y, u, v, savefig=f\"{fpath}-02.png\", show=show)\n",
    "\n",
    "    o, p = get_opp(x, y, u, v, l1x, l1y, l2x, l2y) # opponent point\n",
    "    plot_single_step(poly, x, y, u, v, o, p, savefig=f\"{fpath}-03.png\", show=show)\n",
    "\n",
    "    m, n = (o+u)/2, (p+v)/2 # mid point\n",
    "    plot_single_step(poly, x, y, u, v, o, p, m, n, savefig=f\"{fpath}-04.png\", show=show)\n",
    "    plot_single_step(poly, x, y, u, v, o, p, m, n, 'uv', savefig=f\"{fpath}-05.png\", show=show)\n",
    "\n",
    "    f, g = get_closest(m, n, l1x, l1y, l2x, l2y)\n",
    "    plot_single_step(poly, x, y, u, v, o, p, m, n, 'uv', f, g, savefig=f\"{fpath}-06.png\", show=show)\n",
    "    plot_single_step(poly, x, y, u, v, o, p, m, n, 'fg', f, g, savefig=f\"{fpath}-07.png\", show=show)\n",
    "\n",
    "    f_alt, g_alt = o, p\n",
    "    plot_count = 8\n",
    "    while not(np.isclose(u, f) and np.isclose(v, g) or np.isclose(f_alt, f) and np.isclose(g_alt, g)):\n",
    "        f_alt, g_alt = f, g\n",
    "        m, n = get_mid(x, y, u, v, f, g)\n",
    "        plot_single_step(poly, x, y, u, v, o, p, m, n, 'uv', f, g, savefig=f\"{fpath}-{plot_count:02}.png\", show=show)\n",
    "        f, g = get_closest(m, n, l1x, l1y, l2x, l2y)\n",
    "        plot_single_step(poly, x, y, u, v, o, p, m, n, 'fg', f, g, savefig=f\"{fpath}-{plot_count+1:02}.png\", show=show)\n",
    "        plot_count = plot_count + 2"
   ],
   "id": "bae1a6a51f684bfb",
   "outputs": [],
   "execution_count": 184
  },
  {
   "metadata": {
    "ExecuteTime": {
     "end_time": "2025-06-06T01:56:12.038841Z",
     "start_time": "2025-06-06T01:56:03.308598Z"
    }
   },
   "cell_type": "code",
   "source": "points = get_heuver_points(10000, l1x, l1y, l2x, l2y)",
   "id": "34118e9f90887ca",
   "outputs": [],
   "execution_count": 249
  },
  {
   "metadata": {
    "ExecuteTime": {
     "end_time": "2025-06-06T02:57:47.499958Z",
     "start_time": "2025-06-06T02:57:47.496806Z"
    }
   },
   "cell_type": "code",
   "source": [
    "not_in_use = np.zeros(points.shape[0], dtype=int)\n",
    "orders = []"
   ],
   "id": "970df2b9b109ed47",
   "outputs": [],
   "execution_count": 326
  },
  {
   "metadata": {
    "ExecuteTime": {
     "end_time": "2025-06-06T02:57:47.601263Z",
     "start_time": "2025-06-06T02:57:47.532696Z"
    }
   },
   "cell_type": "code",
   "source": [
    "i = 0\n",
    "cur = np.argmax(points[:, 1])\n",
    "order = np.zeros(points.shape[0], dtype=int)\n",
    "while True:\n",
    "    order[i] = cur\n",
    "    not_in_use[cur] = 1\n",
    "    dists = (points[cur, 0]-points[:, 0])**2 + (points[cur, 1]-points[:, 1])**2\n",
    "    next = np.argmin(dists + not_in_use*10)\n",
    "    if dists[next] >= 0.01:\n",
    "        break\n",
    "    cur = next\n",
    "    i += 1\n",
    "length = i+1\n",
    "orders.append(order[:length])\n",
    "old_path = True"
   ],
   "id": "bf0a1c159e4628f2",
   "outputs": [],
   "execution_count": 327
  },
  {
   "metadata": {
    "ExecuteTime": {
     "end_time": "2025-06-06T02:57:53.726038Z",
     "start_time": "2025-06-06T02:57:53.529728Z"
    }
   },
   "cell_type": "code",
   "source": [
    "last_off = None\n",
    "last_i = None\n",
    "\n",
    "i = 0\n",
    "for on in orders[-1]:\n",
    "    i += 1\n",
    "    # calc distances\n",
    "    dists = (points[on, 0]-points[:, 0])**2 + (points[on, 1]-points[:, 1])**2 + not_in_use*10\n",
    "    # for the min distance\n",
    "    off = np.argmin(dists)\n",
    "    # if near enough\n",
    "    if dists[off] <= 0.01:\n",
    "        # save if needed\n",
    "        if last_off != off:\n",
    "            last_off = off\n",
    "            last_i = i\n",
    "\n",
    "# starte beim dem letzten Wert, der von dem zuvor belaufenen Pfad erreichbar war\n",
    "cur = last_off\n",
    "#\n",
    "i = last_i\n",
    "order = np.zeros(points.shape[0], dtype=int)\n",
    "order[:i] = orders[-1][:i]\n",
    "while True:\n",
    "    if i == 6448:\n",
    "        print(order[-200:-180])\n",
    "    order[i] = cur\n",
    "    not_in_use[cur] = 1\n",
    "    dists = (points[cur, 0]-points[:, 0])**2 + (points[cur, 1]-points[:, 1])**2\n",
    "    next = np.argmin(dists + not_in_use*10)\n",
    "    if dists[next] >= 0.01:\n",
    "        break\n",
    "    cur = next\n",
    "    i += 1\n",
    "length = i+1\n",
    "orders.append(order[:length])"
   ],
   "id": "3bdbc6fba4d33160",
   "outputs": [
    {
     "name": "stdout",
     "output_type": "stream",
     "text": [
      "[1032 1032 1032 1032 1032 1032 1032 1032 1032 1032 1032 1032 1032 1032\n",
      " 1032 1032 1032 1032 1032 1032]\n"
     ]
    },
    {
     "ename": "IndexError",
     "evalue": "index 6448 is out of bounds for axis 0 with size 6448",
     "output_type": "error",
     "traceback": [
      "\u001B[31m---------------------------------------------------------------------------\u001B[39m",
      "\u001B[31mIndexError\u001B[39m                                Traceback (most recent call last)",
      "\u001B[36mCell\u001B[39m\u001B[36m \u001B[39m\u001B[32mIn[330]\u001B[39m\u001B[32m, line 27\u001B[39m\n\u001B[32m     25\u001B[39m \u001B[38;5;28;01mif\u001B[39;00m i == \u001B[32m6448\u001B[39m:\n\u001B[32m     26\u001B[39m     \u001B[38;5;28mprint\u001B[39m(order[-\u001B[32m200\u001B[39m:-\u001B[32m180\u001B[39m])\n\u001B[32m---> \u001B[39m\u001B[32m27\u001B[39m order[i] = cur\n\u001B[32m     28\u001B[39m not_in_use[cur] = \u001B[32m1\u001B[39m\n\u001B[32m     29\u001B[39m dists = (points[cur, \u001B[32m0\u001B[39m]-points[:, \u001B[32m0\u001B[39m])**\u001B[32m2\u001B[39m + (points[cur, \u001B[32m1\u001B[39m]-points[:, \u001B[32m1\u001B[39m])**\u001B[32m2\u001B[39m\n",
      "\u001B[31mIndexError\u001B[39m: index 6448 is out of bounds for axis 0 with size 6448"
     ]
    }
   ],
   "execution_count": 330
  },
  {
   "metadata": {
    "ExecuteTime": {
     "end_time": "2025-06-06T02:46:03.906714Z",
     "start_time": "2025-06-06T02:46:03.834003Z"
    }
   },
   "cell_type": "code",
   "source": [
    "plt.plot(points[order, 0][:length], points[order, 1][:length], color='red')\n",
    "plot_points(poly, points[not_in_use <= .5], circles=False)\n"
   ],
   "id": "3ce09cb4211531d4",
   "outputs": [
    {
     "data": {
      "text/plain": [
       "<Figure size 640x480 with 1 Axes>"
      ],
      "image/png": "[encoded data removed]"
     },
     "metadata": {},
     "output_type": "display_data"
    }
   ],
   "execution_count": 302
  },
  {
   "metadata": {
    "ExecuteTime": {
     "end_time": "2025-06-05T21:30:08.617794Z",
     "start_time": "2025-06-05T21:30:08.613412Z"
    }
   },
   "cell_type": "code",
   "source": "#plot_points(poly, points)",
   "id": "d558af8398fe1000",
   "outputs": [
    {
     "data": {
      "text/plain": [
       "<Figure size 640x480 with 0 Axes>"
      ]
     },
     "metadata": {},
     "output_type": "display_data"
    }
   ],
   "execution_count": 26
  },
  {
   "metadata": {
    "ExecuteTime": {
     "end_time": "2025-06-05T22:15:33.564761Z",
     "start_time": "2025-06-05T22:15:33.560958Z"
    }
   },
   "cell_type": "code",
   "source": "sum(not_in_use)",
   "id": "1d432b81a6cd6adb",
   "outputs": [
    {
     "data": {
      "text/plain": [
       "np.int64(164)"
      ]
     },
     "execution_count": 80,
     "metadata": {},
     "output_type": "execute_result"
    }
   ],
   "execution_count": 80
  },
  {
   "metadata": {},
   "cell_type": "code",
   "outputs": [],
   "execution_count": null,
   "source": "",
   "id": "1aad47cff22b3d40"
  }
 ],
 "metadata": {
  "kernelspec": {
   "display_name": "Python 3",
   "language": "python",
   "name": "python3"
  },
  "language_info": {
   "codemirror_mode": {
    "name": "ipython",
    "version": 2
   },
   "file_extension": ".py",
   "mimetype": "text/x-python",
   "name": "python",
   "nbconvert_exporter": "python",
   "pygments_lexer": "ipython2",
   "version": "2.7.6"
  }
 },
 "nbformat": 4,
 "nbformat_minor": 5
}
